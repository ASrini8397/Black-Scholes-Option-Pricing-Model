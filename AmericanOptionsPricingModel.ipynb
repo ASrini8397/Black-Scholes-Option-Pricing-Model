{
 "cells": [
  {
   "cell_type": "code",
   "execution_count": 4,
   "id": "a6785bda",
   "metadata": {},
   "outputs": [],
   "source": [
    "import numpy as np\n",
    "from scipy.stats import norm"
   ]
  },
  {
   "cell_type": "markdown",
   "id": "0f899315",
   "metadata": {},
   "source": [
    "This is a Black-Scholes Options Pricing Model for an American Call Option on GOOGL stock"
   ]
  },
  {
   "cell_type": "markdown",
   "id": "17a147a2",
   "metadata": {},
   "source": [
    "First we need to calculate d1 and d2 to find the Vc (Value of the call)"
   ]
  },
  {
   "cell_type": "code",
   "execution_count": 67,
   "id": "bd03b84d",
   "metadata": {},
   "outputs": [],
   "source": [
    "\n",
    "#Current Price of stock\n",
    "S=2218\n",
    "#Strike Price\n",
    "K=1200\n",
    "#Time left until expiration\n",
    "DTE= (53/365)\n",
    "#Implied Volatility\n",
    "sigma=.9246\n",
    "#risk free rate\n",
    "r=.028"
   ]
  },
  {
   "cell_type": "code",
   "execution_count": 54,
   "id": "e65b0577",
   "metadata": {},
   "outputs": [],
   "source": [
    "def blackScholes(S,K,DTE, sigma, r, type='Call'):\n",
    "    d1= (np.log(S/K) + (r + sigma**2/2)*DTE)/(sigma*np.sqrt(DTE))\n",
    "    d2=d1-sigma* np.sqrt(DTE)\n",
    "    if type=='Call':\n",
    "        callPrice=S* norm.cdf(d1, 0, 1)- K*np.exp(-r*DTE)*norm.cdf(d2, 0, 1)\n",
    "        return (\"Call Option price :\" ,callPrice)\n",
    "    elif type=='Put':\n",
    "        putPrice=K * np.exp(-r*DTE)* norm.cdf(-d2, 0, 1)- S* norm.cdf(-d1, 0 , 1)\n",
    "        return (\"Put Option price is: \", putPrice)\n",
    "    else:\n",
    "        return (\"Enter the missing Parameter\")"
   ]
  },
  {
   "cell_type": "code",
   "execution_count": 68,
   "id": "0b63d6c0",
   "metadata": {},
   "outputs": [
    {
     "data": {
      "text/plain": [
       "('Call Option price :', 1031.9243506636935)"
      ]
     },
     "execution_count": 68,
     "metadata": {},
     "output_type": "execute_result"
    }
   ],
   "source": [
    "blackScholes(S,K,DTE, sigma, r, type='Call')"
   ]
  },
  {
   "cell_type": "code",
   "execution_count": 69,
   "id": "b6398967",
   "metadata": {},
   "outputs": [
    {
     "data": {
      "text/plain": [
       "('Put Option price is: ', 9.055351336636221)"
      ]
     },
     "execution_count": 69,
     "metadata": {},
     "output_type": "execute_result"
    }
   ],
   "source": [
    "blackScholes(S,K,DTE, sigma, r, type='Put')"
   ]
  },
  {
   "cell_type": "code",
   "execution_count": 71,
   "id": "aa5cbf4d",
   "metadata": {},
   "outputs": [
    {
     "name": "stdout",
     "output_type": "stream",
     "text": [
      "Collecting py_vollib\n",
      "  Downloading py_vollib-1.0.1.tar.gz (19 kB)\n",
      "Collecting py_lets_be_rational\n",
      "  Downloading py_lets_be_rational-1.0.1.tar.gz (18 kB)\n",
      "Collecting simplejson\n",
      "  Downloading simplejson-3.17.6-cp39-cp39-macosx_10_9_x86_64.whl (74 kB)\n",
      "\u001b[K     |████████████████████████████████| 74 kB 2.8 MB/s eta 0:00:011\n",
      "\u001b[?25hRequirement already satisfied: numpy in /Users/apple/Desktop/anaconda3/lib/python3.9/site-packages (from py_vollib) (1.20.3)\n",
      "Requirement already satisfied: pandas in /Users/apple/Desktop/anaconda3/lib/python3.9/site-packages (from py_vollib) (1.3.4)\n",
      "Requirement already satisfied: scipy in /Users/apple/Desktop/anaconda3/lib/python3.9/site-packages (from py_vollib) (1.7.1)\n",
      "Requirement already satisfied: python-dateutil>=2.7.3 in /Users/apple/Desktop/anaconda3/lib/python3.9/site-packages (from pandas->py_vollib) (2.8.2)\n",
      "Requirement already satisfied: pytz>=2017.3 in /Users/apple/Desktop/anaconda3/lib/python3.9/site-packages (from pandas->py_vollib) (2021.3)\n",
      "Requirement already satisfied: six>=1.5 in /Users/apple/Desktop/anaconda3/lib/python3.9/site-packages (from python-dateutil>=2.7.3->pandas->py_vollib) (1.16.0)\n",
      "Building wheels for collected packages: py-vollib, py-lets-be-rational\n",
      "  Building wheel for py-vollib (setup.py) ... \u001b[?25ldone\n",
      "\u001b[?25h  Created wheel for py-vollib: filename=py_vollib-1.0.1-py3-none-any.whl size=62856 sha256=dcb5831e0ffaff6d0986f32edefe404b9d8df5aaa1aa3e759d8f3f5d42277cfe\n",
      "  Stored in directory: /Users/apple/Library/Caches/pip/wheels/b9/a9/77/5836fef7a93c50d71258c47ab174ed66b12205a53574dd16c8\n",
      "  Building wheel for py-lets-be-rational (setup.py) ... \u001b[?25ldone\n",
      "\u001b[?25h  Created wheel for py-lets-be-rational: filename=py_lets_be_rational-1.0.1-py3-none-any.whl size=24466 sha256=5a1831c1b7e9995ae04ab4dfc12b3ac4f44b2dd5bdc8b5f4d557303f34fd996f\n",
      "  Stored in directory: /Users/apple/Library/Caches/pip/wheels/86/91/7a/e16c79c61e339ee18d69d7eeeea89adb1d93e878139e64ace3\n",
      "Successfully built py-vollib py-lets-be-rational\n",
      "Installing collected packages: simplejson, py-lets-be-rational, py-vollib\n",
      "Successfully installed py-lets-be-rational-1.0.1 py-vollib-1.0.1 simplejson-3.17.6\n",
      "Note: you may need to restart the kernel to use updated packages.\n"
     ]
    }
   ],
   "source": [
    "pip install py_vollib"
   ]
  },
  {
   "cell_type": "code",
   "execution_count": 73,
   "id": "5ae18426",
   "metadata": {},
   "outputs": [],
   "source": [
    "from py_vollib.black_scholes import black_scholes as bs\n",
    "from py_vollib.black_scholes.greeks.analytical import delta, gamma, vega, theta, rho"
   ]
  },
  {
   "cell_type": "code",
   "execution_count": 80,
   "id": "200d7702",
   "metadata": {},
   "outputs": [],
   "source": [
    "def blackScholes(S,K,DTE, sigma, r, type='c'):\n",
    "    d1= (np.log(S/K) + (r + sigma**2/2)*DTE)/(sigma*np.sqrt(DTE))\n",
    "    d2=d1-sigma* np.sqrt(DTE)\n",
    "    if type=='c':\n",
    "        callPrice=S* norm.cdf(d1, 0, 1)- K*np.exp(-r*DTE)*norm.cdf(d2, 0, 1)\n",
    "        return callPrice, bs(type, S,K,T,r,sigma)\n",
    "    elif type=='p':\n",
    "        putPrice=K * np.exp(-r*DTE)* norm.cdf(-d2, 0, 1)- S* norm.cdf(-d1, 0 , 1)\n",
    "        return putPrice,bs(type, S,K,T,r,sigma)\n",
    "    else:\n",
    "        return (\"Enter the missing Parameter\")"
   ]
  },
  {
   "cell_type": "code",
   "execution_count": 81,
   "id": "f5c680bc",
   "metadata": {},
   "outputs": [
    {
     "data": {
      "text/plain": [
       "(1031.9243506636935, 1031.924350663694)"
      ]
     },
     "execution_count": 81,
     "metadata": {},
     "output_type": "execute_result"
    }
   ],
   "source": [
    "blackScholes(S,K,DTE,sigma,r,type=\"c\")"
   ]
  },
  {
   "cell_type": "code",
   "execution_count": 82,
   "id": "1ab6b805",
   "metadata": {},
   "outputs": [],
   "source": [
    "#This library was used to confirm our initial calculation of the \n",
    "#call price was correct, so Vc=1031.92"
   ]
  },
  {
   "cell_type": "code",
   "execution_count": 89,
   "id": "b42ef58f",
   "metadata": {},
   "outputs": [],
   "source": [
    "def deltaImplement(S,K,DTE, sigma, r, type='c'):\n",
    "    d1= (np.log(S/K) + (r + sigma**2/2)*DTE)/(sigma*np.sqrt(DTE))\n",
    "\n",
    "    if type=='c':\n",
    "        deltaVal=norm.cdf(d1,0,1)\n",
    "        return deltaVal, delta(type, S,K,T,r,sigma)\n",
    "    elif type=='p':\n",
    "        deltaVal=-norm.cdf(-d1,0,1)\n",
    "        return deltaVal, delta(type, S,K,T,r,sigma)\n",
    "    else:\n",
    "        return (\"Enter the missing Parameter\")\n",
    "    \n",
    "def gammaImplement(S,K,DTE, sigma, r, type='c'):\n",
    "    d1= (np.log(S/K) + (r + sigma**2/2)*DTE)/(sigma*np.sqrt(DTE))\n",
    "    d2= d1-sigma*np.sqrt(DTE)\n",
    "    gammaVal=norm.pdf(d1,0,1)/(S*sigma*np.sqrt(DTE))\n",
    "    return gammaVal, gamma(type, S,K,T,r,sigma)\n",
    "\n",
    "def vegaImplement(S,K,DTE, sigma, r, type='c'):\n",
    "    d1= (np.log(S/K) + (r + sigma**2/2)*DTE)/(sigma*np.sqrt(DTE))\n",
    "    d2= d1-sigma*np.sqrt(DTE)\n",
    "    vegaVal=S*norm.pdf(d1,0,1)*np.sqrt(DTE)\n",
    "    return vegaVal*0.01, vega(type, S,K,T,r,sigma)\n",
    "\n",
    "def thetaImplement(S,K,DTE, sigma, r, type='c'):\n",
    "    d1= (np.log(S/K) + (r + sigma**2/2)*DTE)/(sigma*np.sqrt(DTE))\n",
    "    d2=d1-sigma* np.sqrt(DTE)\n",
    "    if type=='c':\n",
    "        thetaVal=S* norm.pdf(d1, 0, 1)*sigma/(2*np.sqrt(DTE))- r*K*np.exp(-r*DTE)*norm.cdf(d2, 0, 1)\n",
    "        return thetaVal, theta(type, S,K,T,r,sigma)\n",
    "    elif type=='p':\n",
    "        thetaVal=S* norm.pdf(d1, 0, 1)*sigma/(2*np.sqrt(DTE))+ r*K*np.exp(-r*DTE)*norm.cdf-(d2, 0, 1)\n",
    "        return thetaVal/365,theta(type, S,K,T,r,sigma)\n",
    "    else:\n",
    "        return (\"Enter the missing Parameter\")\n",
    "\n",
    "def rhoImplement(S,K,DTE, sigma, r, type='c'):\n",
    "    d1= (np.log(S/K) + (r + sigma**2/2)*DTE)/(sigma*np.sqrt(DTE))\n",
    "    d2=d1-sigma* np.sqrt(DTE)\n",
    "    if type=='c':\n",
    "        rhoVal=K*DTE*np.exp(-r*DTE)*norm.cdf(d2, 0, 1)\n",
    "        return rhoVal, rho(type, S,K,T,r,sigma)\n",
    "    elif type=='p':\n",
    "        rhoVal=-K*DTE*np.exp(-r*DTE)*norm.cdf(-d2, 0, 1)\n",
    "        return rhoVal*0.01,rho(type, S,K,T,r,sigma)\n",
    "    else:\n",
    "        return (\"Enter the missing Parameter\")\n",
    "\n",
    "\n",
    "    "
   ]
  },
  {
   "cell_type": "code",
   "execution_count": 90,
   "id": "9d09287e",
   "metadata": {},
   "outputs": [
    {
     "name": "stdout",
     "output_type": "stream",
     "text": [
      "Option Price: (1031.9243506636935, 1031.924350663694)\n",
      "Option Delta: (0.9732715440775838, 0.9732715440775838)\n",
      "Option Gamma: (7.909256398796175e-05, 7.909256398796174e-05)\n",
      "Option Theta: (134.76677914145583, -0.5421017190440478)\n",
      "Option Rho: (163.61636303375482, 1.6361636303375482)\n",
      "Option Vega: (0.5223909354183303, 0.5223909354183301)\n"
     ]
    }
   ],
   "source": [
    "print(\"Option Price:\",blackScholes(S,K,DTE,sigma,r,type=\"c\"))\n",
    "print(\"Option Delta:\" ,deltaImplement(S,K,DTE,sigma,r,type=\"c\"))\n",
    "print(\"Option Gamma:\",gammaImplement(S,K,DTE,sigma,r,type=\"c\"))\n",
    "print(\"Option Theta:\", thetaImplement(S,K,DTE,sigma,r,type=\"c\"))\n",
    "print(\"Option Rho:\", rhoImplement(S,K,DTE,sigma,r,type=\"c\"))\n",
    "print(\"Option Vega:\", vegaImplement(S,K,DTE,sigma,r,type=\"c\"))"
   ]
  },
  {
   "cell_type": "code",
   "execution_count": null,
   "id": "18ca7057",
   "metadata": {},
   "outputs": [],
   "source": []
  }
 ],
 "metadata": {
  "kernelspec": {
   "display_name": "Python 3 (ipykernel)",
   "language": "python",
   "name": "python3"
  },
  "language_info": {
   "codemirror_mode": {
    "name": "ipython",
    "version": 3
   },
   "file_extension": ".py",
   "mimetype": "text/x-python",
   "name": "python",
   "nbconvert_exporter": "python",
   "pygments_lexer": "ipython3",
   "version": "3.9.7"
  }
 },
 "nbformat": 4,
 "nbformat_minor": 5
}
